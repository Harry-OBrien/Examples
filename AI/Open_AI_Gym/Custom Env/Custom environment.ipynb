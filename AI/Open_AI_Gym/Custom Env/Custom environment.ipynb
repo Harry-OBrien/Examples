{
 "cells": [
  {
   "cell_type": "code",
   "execution_count": 3,
   "id": "2b302605",
   "metadata": {},
   "outputs": [],
   "source": [
    "import gym\n",
    "import numpy as np\n",
    "import random"
   ]
  },
  {
   "cell_type": "code",
   "execution_count": 4,
   "id": "9043016e",
   "metadata": {},
   "outputs": [],
   "source": [
    "# class ShowerEnv(Env):\n",
    "#     def __init__(self):\n",
    "        \n",
    "#         # Number of actions we can take (down, stay, up) (3)\n",
    "#         self.action_space = Discrete(3)\n",
    "        \n",
    "#         # Temperature array\n",
    "#         self.observation_space = Box(low=np.array([0]), high=np.array([100]))\n",
    "        \n",
    "#         # Start temp\n",
    "#         self.reset()\n",
    "        \n",
    "#     def step(self, action):\n",
    "#         self.state += action - 1\n",
    "#         self.shower_length -= 1\n",
    "        \n",
    "#         if self.state >= 37 and self.state <= 39:\n",
    "#             reward = 1\n",
    "#         else:\n",
    "#             reward = -1\n",
    "            \n",
    "#         # Check if shower is done\n",
    "#         if self.shower_length <= 0:\n",
    "#             done = True\n",
    "#         else:\n",
    "#             done = False\n",
    "            \n",
    "#         # Apply temperature noise\n",
    "#         self.state += random.randint(-1, 1)\n",
    "#         # set placeholder for info\n",
    "#         info = {}\n",
    "        \n",
    "#         return self.state, reward, done, info\n",
    "    \n",
    "#     def render(self):\n",
    "#         # Implement visualisation\n",
    "#         pass\n",
    "    \n",
    "#     def reset(self):\n",
    "#         # Reset temp and shower length\n",
    "#         self.state = 38 + random.randint(-3, 3)\n",
    "#         self.shower_length = 60\n",
    "#         return self.state"
   ]
  },
  {
   "cell_type": "code",
   "execution_count": 5,
   "id": "c7b5cd6e",
   "metadata": {},
   "outputs": [],
   "source": [
    "env_name = \"LunarLander-v2\"\n",
    "env = gym.make(env_name)\n",
    "# env = ShowerEnv()\n",
    "states = env.observation_space.shape[0]\n",
    "actions = env.action_space.n"
   ]
  },
  {
   "cell_type": "code",
   "execution_count": 6,
   "id": "27b19b20",
   "metadata": {},
   "outputs": [
    {
     "data": {
      "text/plain": [
       "4"
      ]
     },
     "execution_count": 6,
     "metadata": {},
     "output_type": "execute_result"
    }
   ],
   "source": [
    "actions"
   ]
  },
  {
   "cell_type": "code",
   "execution_count": 7,
   "id": "0cfb0355",
   "metadata": {},
   "outputs": [
    {
     "name": "stdout",
     "output_type": "stream",
     "text": [
      "Episode: 1 Score: -117.95880041615695\n",
      "Episode: 2 Score: -103.91612801710234\n",
      "Episode: 3 Score: -215.97948015420195\n",
      "Episode: 4 Score: -136.6961229089929\n",
      "Episode: 5 Score: -118.24100917490036\n",
      "Episode: 6 Score: -99.94820646742372\n",
      "Episode: 7 Score: -186.66751735895662\n",
      "Episode: 8 Score: -87.70664476982633\n",
      "Episode: 9 Score: -216.81804321666763\n",
      "Episode: 10 Score: -76.9798249006105\n"
     ]
    }
   ],
   "source": [
    "episodes = 10\n",
    "for episode in range(1, episodes + 1):\n",
    "    state = env.reset()\n",
    "    done = False\n",
    "    score = 0\n",
    "    \n",
    "    while not done:\n",
    "        action = env.action_space.sample()\n",
    "        n_state, reward, done, info = env.step(action)\n",
    "        score += reward\n",
    "        \n",
    "    print('Episode:', episode, \"Score:\", score)"
   ]
  },
  {
   "cell_type": "markdown",
   "id": "c8fdb7f9",
   "metadata": {},
   "source": [
    "# Create a deep learning model with Keras"
   ]
  },
  {
   "cell_type": "code",
   "execution_count": 8,
   "id": "7aa96170",
   "metadata": {},
   "outputs": [],
   "source": [
    "import tensorflow as tf\n",
    "from tensorflow.keras.models import Sequential\n",
    "from tensorflow.keras.layers import Dense, Flatten\n",
    "from tensorflow.keras.optimizers import Adam"
   ]
  },
  {
   "cell_type": "code",
   "execution_count": 9,
   "id": "70c6a05f",
   "metadata": {},
   "outputs": [
    {
     "name": "stdout",
     "output_type": "stream",
     "text": [
      "8 4\n"
     ]
    }
   ],
   "source": [
    "states = env.observation_space.shape[0]\n",
    "actions = env.action_space.n\n",
    "print(states, actions)"
   ]
  },
  {
   "cell_type": "code",
   "execution_count": 27,
   "id": "e6e1a37e",
   "metadata": {},
   "outputs": [],
   "source": [
    "def build_model(states, actions):\n",
    "    model = tf.keras.Sequential()\n",
    "\n",
    "    model.add(Flatten(input_shape=(1, states)))\n",
    "    model.add(Dense(256, activation='relu'))\n",
    "    model.add(Dense(256, activation='relu'))\n",
    "    model.add(Dense(actions, activation='linear'))\n",
    "    return model"
   ]
  },
  {
   "cell_type": "code",
   "execution_count": 28,
   "id": "0af173b2",
   "metadata": {},
   "outputs": [
    {
     "name": "stdout",
     "output_type": "stream",
     "text": [
      "Model: \"sequential_3\"\n",
      "_________________________________________________________________\n",
      " Layer (type)                Output Shape              Param #   \n",
      "=================================================================\n",
      " flatten_3 (Flatten)         (None, 8)                 0         \n",
      "                                                                 \n",
      " dense_9 (Dense)             (None, 256)               2304      \n",
      "                                                                 \n",
      " dense_10 (Dense)            (None, 256)               65792     \n",
      "                                                                 \n",
      " dense_11 (Dense)            (None, 4)                 1028      \n",
      "                                                                 \n",
      "=================================================================\n",
      "Total params: 69,124\n",
      "Trainable params: 69,124\n",
      "Non-trainable params: 0\n",
      "_________________________________________________________________\n"
     ]
    }
   ],
   "source": [
    "model = build_model(states, actions)\n",
    "model.summary()"
   ]
  },
  {
   "cell_type": "markdown",
   "id": "3ae1511d",
   "metadata": {},
   "source": [
    "# Build Agent with Keras-RL"
   ]
  },
  {
   "cell_type": "code",
   "execution_count": 29,
   "id": "71efc925",
   "metadata": {},
   "outputs": [],
   "source": [
    "from rl.agents import DQNAgent\n",
    "from rl.policy import BoltzmannQPolicy\n",
    "from rl.memory import SequentialMemory"
   ]
  },
  {
   "cell_type": "code",
   "execution_count": 30,
   "id": "4f692a76",
   "metadata": {},
   "outputs": [],
   "source": [
    "def build_agent(model, actions):\n",
    "    policy = BoltzmannQPolicy()\n",
    "    memory = SequentialMemory(limit=50000, window_length=1)\n",
    "    dqn = DQNAgent(model=model, \n",
    "                   memory=memory, \n",
    "                   policy=policy, \n",
    "                   nb_actions=actions, \n",
    "                   nb_steps_warmup=10, \n",
    "                   target_model_update=1e-2)\n",
    "    \n",
    "    return dqn"
   ]
  },
  {
   "cell_type": "code",
   "execution_count": 31,
   "id": "3b8cb3f3",
   "metadata": {},
   "outputs": [
    {
     "name": "stdout",
     "output_type": "stream",
     "text": [
      "Training for 50000 steps ...\n",
      "Interval 1 (0 steps performed)\n",
      "10000/10000 [==============================] - 60s 6ms/step - reward: -0.3661\n",
      "24 episodes - episode_reward: -154.832 [-567.273, -13.283] - loss: 6.956 - mae: 19.047 - mean_q: 10.435\n",
      "\n",
      "Interval 2 (10000 steps performed)\n",
      "10000/10000 [==============================] - 62s 6ms/step - reward: -0.0212\n",
      "16 episodes - episode_reward: -18.546 [-259.508, 90.728] - loss: 4.351 - mae: 28.469 - mean_q: 35.967\n",
      "\n",
      "Interval 3 (20000 steps performed)\n",
      "10000/10000 [==============================] - 62s 6ms/step - reward: 0.0140\n",
      "12 episodes - episode_reward: 16.224 [-166.915, 127.618] - loss: 4.707 - mae: 34.864 - mean_q: 45.499\n",
      "\n",
      "Interval 4 (30000 steps performed)\n",
      "10000/10000 [==============================] - 64s 6ms/step - reward: 0.0636\n",
      "11 episodes - episode_reward: 53.826 [-197.202, 133.078] - loss: 4.680 - mae: 34.678 - mean_q: 45.633\n",
      "\n",
      "Interval 5 (40000 steps performed)\n",
      "10000/10000 [==============================] - 63s 6ms/step - reward: 0.0616\n",
      "done, took 310.620 seconds\n"
     ]
    },
    {
     "data": {
      "text/plain": [
       "<keras.callbacks.History at 0x7fd0591d1e20>"
      ]
     },
     "execution_count": 31,
     "metadata": {},
     "output_type": "execute_result"
    }
   ],
   "source": [
    "dqn = build_agent(model, actions)\n",
    "dqn.compile(Adam(lr=1e-3), metrics=['mae'])\n",
    "dqn.fit(env, nb_steps=50000, visualize=False, verbose=1)"
   ]
  },
  {
   "cell_type": "markdown",
   "id": "f57298f3",
   "metadata": {},
   "source": [
    "# Testing model"
   ]
  },
  {
   "cell_type": "code",
   "execution_count": 32,
   "id": "64b50b67",
   "metadata": {},
   "outputs": [
    {
     "name": "stdout",
     "output_type": "stream",
     "text": [
      "Testing for 25 episodes ...\n",
      "Episode 1: reward: 141.242, steps: 1000\n",
      "Episode 2: reward: -44.191, steps: 1000\n",
      "Episode 3: reward: 276.863, steps: 243\n",
      "Episode 4: reward: 293.085, steps: 364\n",
      "Episode 5: reward: 226.107, steps: 217\n",
      "Episode 6: reward: 18.962, steps: 214\n",
      "Episode 7: reward: 220.087, steps: 944\n",
      "Episode 8: reward: 274.424, steps: 211\n",
      "Episode 9: reward: 144.208, steps: 1000\n",
      "Episode 10: reward: 188.117, steps: 260\n",
      "Episode 11: reward: 150.954, steps: 1000\n",
      "Episode 12: reward: 268.522, steps: 223\n",
      "Episode 13: reward: 300.517, steps: 217\n",
      "Episode 14: reward: 139.672, steps: 1000\n",
      "Episode 15: reward: 102.748, steps: 1000\n",
      "Episode 16: reward: 191.559, steps: 355\n",
      "Episode 17: reward: 167.681, steps: 1000\n",
      "Episode 18: reward: 256.065, steps: 215\n",
      "Episode 19: reward: 277.178, steps: 258\n",
      "Episode 20: reward: 219.811, steps: 898\n",
      "Episode 21: reward: 248.608, steps: 204\n",
      "Episode 22: reward: -531.440, steps: 627\n",
      "Episode 23: reward: 228.840, steps: 288\n",
      "Episode 24: reward: 268.318, steps: 254\n",
      "Episode 25: reward: 263.594, steps: 198\n"
     ]
    },
    {
     "data": {
      "text/plain": [
       "<keras.callbacks.History at 0x7fd0593d18b0>"
      ]
     },
     "execution_count": 32,
     "metadata": {},
     "output_type": "execute_result"
    }
   ],
   "source": [
    "dqn.test(env, nb_episodes=25, visualize=True)"
   ]
  },
  {
   "cell_type": "markdown",
   "id": "e49d9578",
   "metadata": {},
   "source": [
    "# Save and reload model"
   ]
  },
  {
   "cell_type": "code",
   "execution_count": null,
   "id": "24331ac3",
   "metadata": {},
   "outputs": [],
   "source": [
    "dqn.save_weights('dqn_lander_weights.h5f', overwrite=True)"
   ]
  },
  {
   "cell_type": "code",
   "execution_count": null,
   "id": "84b0ea3d",
   "metadata": {},
   "outputs": [],
   "source": [
    "del model\n",
    "del dqn\n",
    "del env"
   ]
  },
  {
   "cell_type": "code",
   "execution_count": null,
   "id": "67b06154",
   "metadata": {},
   "outputs": [],
   "source": [
    "env = gym.make(env_name)\n",
    "actions = env.action_space.n\n",
    "states = env.observation_space.shape[0]\n",
    "model = build_model(states, actions)\n",
    "dqn = build_agent(model, actions)\n",
    "dqn.compile(Adam(lr=1e-3), metrics=['mae'])"
   ]
  },
  {
   "cell_type": "code",
   "execution_count": null,
   "id": "a6a9ad62",
   "metadata": {},
   "outputs": [],
   "source": [
    "dqn.load_weights('dqn_weights.h5f')"
   ]
  },
  {
   "cell_type": "code",
   "execution_count": null,
   "id": "eef0e27e",
   "metadata": {},
   "outputs": [],
   "source": [
    "dqn.test(env, nb_episodes=25, visualize=True)"
   ]
  },
  {
   "cell_type": "code",
   "execution_count": null,
   "id": "d7f99d51",
   "metadata": {},
   "outputs": [],
   "source": []
  }
 ],
 "metadata": {
  "kernelspec": {
   "display_name": "Python 3 (ipykernel)",
   "language": "python",
   "name": "python3"
  },
  "language_info": {
   "codemirror_mode": {
    "name": "ipython",
    "version": 3
   },
   "file_extension": ".py",
   "mimetype": "text/x-python",
   "name": "python",
   "nbconvert_exporter": "python",
   "pygments_lexer": "ipython3",
   "version": "3.8.8"
  }
 },
 "nbformat": 4,
 "nbformat_minor": 5
}
